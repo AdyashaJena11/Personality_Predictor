{
  "nbformat": 4,
  "nbformat_minor": 0,
  "metadata": {
    "colab": {
      "provenance": []
    },
    "kernelspec": {
      "name": "python3",
      "display_name": "Python 3"
    },
    "language_info": {
      "name": "python"
    },
    "widgets": {
      "application/vnd.jupyter.widget-state+json": {
        "15d2682b426a4656a4d88d020440f3e3": {
          "model_module": "@jupyter-widgets/controls",
          "model_name": "TextModel",
          "model_module_version": "1.5.0",
          "state": {
            "_dom_classes": [],
            "_model_module": "@jupyter-widgets/controls",
            "_model_module_version": "1.5.0",
            "_model_name": "TextModel",
            "_view_count": null,
            "_view_module": "@jupyter-widgets/controls",
            "_view_module_version": "1.5.0",
            "_view_name": "TextView",
            "continuous_update": true,
            "description": "Your Traits:",
            "description_tooltip": null,
            "disabled": false,
            "layout": "IPY_MODEL_fe0d38ab67364f299782d5dbe94225d0",
            "placeholder": "Describe yourself...",
            "style": "IPY_MODEL_c718f17115354c5b85230d7e1efd2173",
            "value": "shy"
          }
        },
        "fe0d38ab67364f299782d5dbe94225d0": {
          "model_module": "@jupyter-widgets/base",
          "model_name": "LayoutModel",
          "model_module_version": "1.2.0",
          "state": {
            "_model_module": "@jupyter-widgets/base",
            "_model_module_version": "1.2.0",
            "_model_name": "LayoutModel",
            "_view_count": null,
            "_view_module": "@jupyter-widgets/base",
            "_view_module_version": "1.2.0",
            "_view_name": "LayoutView",
            "align_content": null,
            "align_items": null,
            "align_self": null,
            "border": null,
            "bottom": null,
            "display": null,
            "flex": null,
            "flex_flow": null,
            "grid_area": null,
            "grid_auto_columns": null,
            "grid_auto_flow": null,
            "grid_auto_rows": null,
            "grid_column": null,
            "grid_gap": null,
            "grid_row": null,
            "grid_template_areas": null,
            "grid_template_columns": null,
            "grid_template_rows": null,
            "height": null,
            "justify_content": null,
            "justify_items": null,
            "left": null,
            "margin": null,
            "max_height": null,
            "max_width": null,
            "min_height": null,
            "min_width": null,
            "object_fit": null,
            "object_position": null,
            "order": null,
            "overflow": null,
            "overflow_x": null,
            "overflow_y": null,
            "padding": null,
            "right": null,
            "top": null,
            "visibility": null,
            "width": "70%"
          }
        },
        "c718f17115354c5b85230d7e1efd2173": {
          "model_module": "@jupyter-widgets/controls",
          "model_name": "DescriptionStyleModel",
          "model_module_version": "1.5.0",
          "state": {
            "_model_module": "@jupyter-widgets/controls",
            "_model_module_version": "1.5.0",
            "_model_name": "DescriptionStyleModel",
            "_view_count": null,
            "_view_module": "@jupyter-widgets/base",
            "_view_module_version": "1.2.0",
            "_view_name": "StyleView",
            "description_width": ""
          }
        },
        "6805a9d4a2a54cceac4550b411dcd952": {
          "model_module": "@jupyter-widgets/controls",
          "model_name": "ButtonModel",
          "model_module_version": "1.5.0",
          "state": {
            "_dom_classes": [],
            "_model_module": "@jupyter-widgets/controls",
            "_model_module_version": "1.5.0",
            "_model_name": "ButtonModel",
            "_view_count": null,
            "_view_module": "@jupyter-widgets/controls",
            "_view_module_version": "1.5.0",
            "_view_name": "ButtonView",
            "button_style": "success",
            "description": "Predict",
            "disabled": false,
            "icon": "",
            "layout": "IPY_MODEL_6ed7c2b7bd194915ac4d9531f4086856",
            "style": "IPY_MODEL_83453893ee2c4011a2aacef577aef068",
            "tooltip": ""
          }
        },
        "6ed7c2b7bd194915ac4d9531f4086856": {
          "model_module": "@jupyter-widgets/base",
          "model_name": "LayoutModel",
          "model_module_version": "1.2.0",
          "state": {
            "_model_module": "@jupyter-widgets/base",
            "_model_module_version": "1.2.0",
            "_model_name": "LayoutModel",
            "_view_count": null,
            "_view_module": "@jupyter-widgets/base",
            "_view_module_version": "1.2.0",
            "_view_name": "LayoutView",
            "align_content": null,
            "align_items": null,
            "align_self": null,
            "border": null,
            "bottom": null,
            "display": null,
            "flex": null,
            "flex_flow": null,
            "grid_area": null,
            "grid_auto_columns": null,
            "grid_auto_flow": null,
            "grid_auto_rows": null,
            "grid_column": null,
            "grid_gap": null,
            "grid_row": null,
            "grid_template_areas": null,
            "grid_template_columns": null,
            "grid_template_rows": null,
            "height": null,
            "justify_content": null,
            "justify_items": null,
            "left": null,
            "margin": null,
            "max_height": null,
            "max_width": null,
            "min_height": null,
            "min_width": null,
            "object_fit": null,
            "object_position": null,
            "order": null,
            "overflow": null,
            "overflow_x": null,
            "overflow_y": null,
            "padding": null,
            "right": null,
            "top": null,
            "visibility": null,
            "width": null
          }
        },
        "83453893ee2c4011a2aacef577aef068": {
          "model_module": "@jupyter-widgets/controls",
          "model_name": "ButtonStyleModel",
          "model_module_version": "1.5.0",
          "state": {
            "_model_module": "@jupyter-widgets/controls",
            "_model_module_version": "1.5.0",
            "_model_name": "ButtonStyleModel",
            "_view_count": null,
            "_view_module": "@jupyter-widgets/base",
            "_view_module_version": "1.2.0",
            "_view_name": "StyleView",
            "button_color": null,
            "font_weight": ""
          }
        },
        "fa5feb65d8e14547b8d67a10475ca3e7": {
          "model_module": "@jupyter-widgets/controls",
          "model_name": "LabelModel",
          "model_module_version": "1.5.0",
          "state": {
            "_dom_classes": [],
            "_model_module": "@jupyter-widgets/controls",
            "_model_module_version": "1.5.0",
            "_model_name": "LabelModel",
            "_view_count": null,
            "_view_module": "@jupyter-widgets/controls",
            "_view_module_version": "1.5.0",
            "_view_name": "LabelView",
            "description": "",
            "description_tooltip": null,
            "layout": "IPY_MODEL_81e00401351843a6acb7339579d04bfc",
            "placeholder": "​",
            "style": "IPY_MODEL_d343d054e7524007a8d800d338ad3615",
            "value": "🎯 Predicted Personality: Introvert"
          }
        },
        "81e00401351843a6acb7339579d04bfc": {
          "model_module": "@jupyter-widgets/base",
          "model_name": "LayoutModel",
          "model_module_version": "1.2.0",
          "state": {
            "_model_module": "@jupyter-widgets/base",
            "_model_module_version": "1.2.0",
            "_model_name": "LayoutModel",
            "_view_count": null,
            "_view_module": "@jupyter-widgets/base",
            "_view_module_version": "1.2.0",
            "_view_name": "LayoutView",
            "align_content": null,
            "align_items": null,
            "align_self": null,
            "border": null,
            "bottom": null,
            "display": null,
            "flex": null,
            "flex_flow": null,
            "grid_area": null,
            "grid_auto_columns": null,
            "grid_auto_flow": null,
            "grid_auto_rows": null,
            "grid_column": null,
            "grid_gap": null,
            "grid_row": null,
            "grid_template_areas": null,
            "grid_template_columns": null,
            "grid_template_rows": null,
            "height": null,
            "justify_content": null,
            "justify_items": null,
            "left": null,
            "margin": null,
            "max_height": null,
            "max_width": null,
            "min_height": null,
            "min_width": null,
            "object_fit": null,
            "object_position": null,
            "order": null,
            "overflow": null,
            "overflow_x": null,
            "overflow_y": null,
            "padding": null,
            "right": null,
            "top": null,
            "visibility": null,
            "width": null
          }
        },
        "d343d054e7524007a8d800d338ad3615": {
          "model_module": "@jupyter-widgets/controls",
          "model_name": "DescriptionStyleModel",
          "model_module_version": "1.5.0",
          "state": {
            "_model_module": "@jupyter-widgets/controls",
            "_model_module_version": "1.5.0",
            "_model_name": "DescriptionStyleModel",
            "_view_count": null,
            "_view_module": "@jupyter-widgets/base",
            "_view_module_version": "1.2.0",
            "_view_name": "StyleView",
            "description_width": ""
          }
        }
      }
    }
  },
  "cells": [
    {
      "cell_type": "code",
      "source": [
        "import matplotlib.pyplot as plt\n",
        "import pandas as pd\n",
        "from IPython.display import display\n",
        "import ipywidgets as widgets"
      ],
      "metadata": {
        "id": "vKnsxBPS7hrh"
      },
      "execution_count": 10,
      "outputs": []
    },
    {
      "cell_type": "code",
      "source": [
        "personality_keywords = {\n",
        "    \"Extrovert\": [\"talk\", \"party\", \"social\", \"friends\", \"outgoing\", \"fun\",\"Movies\"],\n",
        "    \"Introvert\": [\"alone\", \"quiet\", \"books\", \"peace\", \"home\", \"thoughtful\",\"shy\",\"Not talk Too much\"],\n",
        "    \"Ambivert\": [\"sometimes\", \"depends\", \"mix\", \"both\", \"balanced\",\"Some Times go For movies\",\"\"]\n",
        "}\n",
        "\n",
        "# DataFrame to store history\n",
        "history = pd.DataFrame(columns=[\"Input\", \"Personality\"])\n",
        "\n",
        "# Function to predict personality\n",
        "def predict_personality(text):\n",
        "    global history\n",
        "    text_words = text.lower().split()\n",
        "    scores = {key:0 for key in personality_keywords}\n",
        "\n",
        "    for personality, keywords in personality_keywords.items():\n",
        "        for word in text_words:\n",
        "            if word in keywords:\n",
        "                scores[personality] += 1\n",
        "\n",
        "    predicted = max(scores, key=scores.get)\n",
        "    if scores[predicted] == 0:\n",
        "        predicted = \"Ambivert\"\n",
        "\n",
        "    # Save to history\n",
        "    history = pd.concat([history, pd.DataFrame({\"Input\":[text], \"Personality\":[predicted]})], ignore_index=True)\n",
        "\n",
        "    # Update result label\n",
        "    result.value = f\"🎯 Predicted Personality: {predicted}\"\n",
        "\n",
        "    # Update visualization\n",
        "    visualize_history()\n",
        "\n",
        "# Function to visualize history\n",
        "def visualize_history():\n",
        "    plt.figure(figsize=(6,4))\n",
        "    counts = history['Personality'].value_counts()\n",
        "    counts.plot(kind='bar', color=['skyblue', 'lightgreen', 'salmon'])\n",
        "    plt.title(\"Personality Predictions Count\")\n",
        "    plt.ylabel(\"Number of Inputs\")\n",
        "    plt.xticks(rotation=0)\n",
        "    plt.show()\n",
        "\n",
        "# Widgets\n",
        "text_input = widgets.Text(\n",
        "    value='',\n",
        "    placeholder='Describe yourself...',\n",
        "    description='Your Traits:',\n",
        "    layout=widgets.Layout(width='70%')\n",
        ")\n",
        "predict_button = widgets.Button(description=\"Predict\", button_style='success')\n",
        "result = widgets.Label(value=\"\")\n",
        "\n",
        "# Event\n",
        "predict_button.on_click(lambda b: predict_personality(text_input.value))\n",
        "\n",
        "# Display UI\n",
        "display(text_input, predict_button, result)"
      ],
      "metadata": {
        "id": "N0qetDuAAmtO",
        "colab": {
          "base_uri": "https://localhost:8080/",
          "height": 506,
          "referenced_widgets": [
            "15d2682b426a4656a4d88d020440f3e3",
            "fe0d38ab67364f299782d5dbe94225d0",
            "c718f17115354c5b85230d7e1efd2173",
            "6805a9d4a2a54cceac4550b411dcd952",
            "6ed7c2b7bd194915ac4d9531f4086856",
            "83453893ee2c4011a2aacef577aef068",
            "fa5feb65d8e14547b8d67a10475ca3e7",
            "81e00401351843a6acb7339579d04bfc",
            "d343d054e7524007a8d800d338ad3615"
          ]
        },
        "outputId": "3e72d1f8-9895-4a91-ae67-70fef4a8742b"
      },
      "execution_count": 14,
      "outputs": [
        {
          "output_type": "display_data",
          "data": {
            "text/plain": [
              "Text(value='', description='Your Traits:', layout=Layout(width='70%'), placeholder='Describe yourself...')"
            ],
            "application/vnd.jupyter.widget-view+json": {
              "version_major": 2,
              "version_minor": 0,
              "model_id": "15d2682b426a4656a4d88d020440f3e3"
            }
          },
          "metadata": {}
        },
        {
          "output_type": "display_data",
          "data": {
            "text/plain": [
              "Button(button_style='success', description='Predict', style=ButtonStyle())"
            ],
            "application/vnd.jupyter.widget-view+json": {
              "version_major": 2,
              "version_minor": 0,
              "model_id": "6805a9d4a2a54cceac4550b411dcd952"
            }
          },
          "metadata": {}
        },
        {
          "output_type": "display_data",
          "data": {
            "text/plain": [
              "Label(value='')"
            ],
            "application/vnd.jupyter.widget-view+json": {
              "version_major": 2,
              "version_minor": 0,
              "model_id": "fa5feb65d8e14547b8d67a10475ca3e7"
            }
          },
          "metadata": {}
        },
        {
          "output_type": "display_data",
          "data": {
            "text/plain": [
              "<Figure size 600x400 with 1 Axes>"
            ],
            "image/png": "[encoded data removed]"
          },
          "metadata": {}
        }
      ]
    },
    {
      "cell_type": "code",
      "source": [],
      "metadata": {
        "id": "FwTikl45T1WR"
      },
      "execution_count": null,
      "outputs": []
    }
  ]
}